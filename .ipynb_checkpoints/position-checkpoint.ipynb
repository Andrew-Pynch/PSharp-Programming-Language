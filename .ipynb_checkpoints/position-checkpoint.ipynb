{
 "cells": [
  {
   "cell_type": "code",
   "execution_count": 2,
   "metadata": {},
   "outputs": [],
   "source": [
    "class Position:\n",
    "    def __init__(self, idx, ln, col, text):\n",
    "        self.idx = idx  # ???\n",
    "        self.ln = ln  # line number\n",
    "        self.col = col\n",
    "        self.text = text\n",
    "\n",
    "    def advance(self, current_char):\n",
    "        self.idx += 1\n",
    "        self.col += 1\n",
    "\n",
    "        if current_char == '\\n':  # If we hit a line break, go to the next line in the file\n",
    "            self.ln += 1\n",
    "            self.col = 0  # reset to first column of text\n",
    "\n",
    "        return self\n",
    "\n",
    "    def copy(self):\n",
    "        return Position(self.idx, self.ln, self.col, self.text)"
   ]
  }
 ],
 "metadata": {
  "kernelspec": {
   "display_name": "Python 3",
   "language": "python",
   "name": "python3"
  },
  "language_info": {
   "codemirror_mode": {
    "name": "ipython",
    "version": 3
   },
   "file_extension": ".py",
   "mimetype": "text/x-python",
   "name": "python",
   "nbconvert_exporter": "python",
   "pygments_lexer": "ipython3",
   "version": "3.8.3"
  }
 },
 "nbformat": 4,
 "nbformat_minor": 4
}
