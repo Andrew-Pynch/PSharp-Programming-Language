{
 "cells": [
  {
   "cell_type": "code",
   "execution_count": 6,
   "metadata": {},
   "outputs": [],
   "source": [
    "DIGITS = '0123456789'\n",
    "TT_INT = 'INT'\n",
    "TT_FLOAT = 'FLOAT'\n",
    "TT_PLUS = 'PLUS'\n",
    "TT_MINUS = 'MINUS'\n",
    "TT_MUL = 'MUL'\n",
    "TT_DIV = 'DIV'\n",
    "TT_EXP = 'EXP'\n",
    "TT_LPAREN = 'LPAREN'\n",
    "TT_RPAREN = 'RPAREN'\n",
    "TT_LBRACE = 'LBRACE'\n",
    "TT_RBRACE = 'RBRACE'"
   ]
  },
  {
   "cell_type": "code",
   "execution_count": 7,
   "metadata": {},
   "outputs": [],
   "source": [
    "class Token:\n",
    "    def __init__(self, type, value=None):\n",
    "        self.type = type\n",
    "        self.value = value\n",
    "        \n",
    "    def __repr__(self):\n",
    "        if self.value: return f'{self.type}:{self.value}'\n",
    "        return f'{self.type}'"
   ]
  }
 ],
 "metadata": {
  "kernelspec": {
   "display_name": "Python 3",
   "language": "python",
   "name": "python3"
  },
  "language_info": {
   "codemirror_mode": {
    "name": "ipython",
    "version": 3
   },
   "file_extension": ".py",
   "mimetype": "text/x-python",
   "name": "python",
   "nbconvert_exporter": "python",
   "pygments_lexer": "ipython3",
   "version": "3.8.3"
  }
 },
 "nbformat": 4,
 "nbformat_minor": 4
}
