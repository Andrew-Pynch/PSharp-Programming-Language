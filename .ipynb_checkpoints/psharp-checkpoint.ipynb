{
 "cells": [
  {
   "cell_type": "code",
   "execution_count": 33,
   "metadata": {},
   "outputs": [],
   "source": [
    "from ipynb.fs.full.lexer import *\n",
    "\n",
    "class PSharp:\n",
    "    def __init__(self, text):\n",
    "        self.text = text\n",
    "        \n",
    "    def run(self):\n",
    "        self.lexer = Lexer(self.text)\n",
    "        lexer, tokens = self.lexer.make_tokens()\n",
    "        \n",
    "        return lexer, tokens"
   ]
  }
 ],
 "metadata": {
  "kernelspec": {
   "display_name": "Python 3",
   "language": "python",
   "name": "python3"
  },
  "language_info": {
   "codemirror_mode": {
    "name": "ipython",
    "version": 3
   },
   "file_extension": ".py",
   "mimetype": "text/x-python",
   "name": "python",
   "nbconvert_exporter": "python",
   "pygments_lexer": "ipython3",
   "version": "3.8.3"
  }
 },
 "nbformat": 4,
 "nbformat_minor": 4
}
